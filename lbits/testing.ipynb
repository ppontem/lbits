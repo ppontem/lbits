{
 "cells": [
  {
   "cell_type": "code",
   "execution_count": 1,
   "metadata": {
    "collapsed": false
   },
   "outputs": [
    {
     "name": "stderr",
     "output_type": "stream",
     "text": [
      "/Users/pedro/anaconda/envs/python2/lib/python2.7/site-packages/matplotlib/font_manager.py:273: UserWarning: Matplotlib is building the font cache using fc-list. This may take a moment.\n",
      "  warnings.warn('Matplotlib is building the font cache using fc-list. This may take a moment.')\n"
     ]
    },
    {
     "name": "stdout",
     "output_type": "stream",
     "text": [
      "Populating the interactive namespace from numpy and matplotlib\n"
     ]
    }
   ],
   "source": [
    "%pylab inline\n",
    "import seaborn as sns\n",
    "sns.set()\n",
    "import BCmodel"
   ]
  },
  {
   "cell_type": "code",
   "execution_count": 2,
   "metadata": {
    "collapsed": true
   },
   "outputs": [],
   "source": [
    "import Entanglement"
   ]
  },
  {
   "cell_type": "code",
   "execution_count": 115,
   "metadata": {
    "collapsed": false
   },
   "outputs": [
    {
     "name": "stdout",
     "output_type": "stream",
     "text": [
      "0.967793572219\n"
     ]
    }
   ],
   "source": [
    "# check this\n",
    "seedd = 1\n",
    "for J in [100.0]:\n",
    "    try:\n",
    "        del model1\n",
    "    except:\n",
    "        \"model1 not defined\"\n",
    "    model1 = BCmodel.BCmodel(6, 4, [0.30, 0.32, 0.34, 0.36, 0.38, 0.40], [1.0, 1.0, 1.0, 1.0, 1.0, J], seedd, seedd)\n",
    "    model1.diagonalize()\n",
    "    print np.median(model1.subsystem_entanglement_all_eigenstates([1, 6]))"
   ]
  },
  {
   "cell_type": "code",
   "execution_count": 116,
   "metadata": {
    "collapsed": false
   },
   "outputs": [
    {
     "data": {
      "text/plain": [
       "0.96779357221937357"
      ]
     },
     "execution_count": 116,
     "metadata": {},
     "output_type": "execute_result"
    }
   ],
   "source": [
    "np.median(model1.subsystem_entanglement_all_eigenstates([1, 6]))"
   ]
  },
  {
   "cell_type": "code",
   "execution_count": 117,
   "metadata": {
    "collapsed": false
   },
   "outputs": [
    {
     "data": {
      "text/plain": [
       "(array([ 774.,  113.,   29.,   19.,   27.,   16.,   18.,   16.,    9.,    3.]),\n",
       " array([ 0.00532012,  0.17636439,  0.34740865,  0.51845291,  0.68949718,\n",
       "         0.86054144,  1.0315857 ,  1.20262997,  1.37367423,  1.54471849,\n",
       "         1.71576276]),\n",
       " <a list of 10 Patch objects>)"
      ]
     },
     "execution_count": 117,
     "metadata": {},
     "output_type": "execute_result"
    },
    {
     "data": {
      "image/png": "[encoded data removed]",
      "text/plain": [
       "<matplotlib.figure.Figure at 0x112c6b6d0>"
      ]
     },
     "metadata": {},
     "output_type": "display_data"
    }
   ],
   "source": [
    "plt.hist(model1.subsystem_entanglement_all_eigenstates([1, 2]))"
   ]
  },
  {
   "cell_type": "code",
   "execution_count": 55,
   "metadata": {
    "collapsed": false
   },
   "outputs": [
    {
     "data": {
      "text/plain": [
       "[1.0, 1.0, 1.0, 1.0, 1.0, 31.0]"
      ]
     },
     "execution_count": 55,
     "metadata": {},
     "output_type": "execute_result"
    }
   ],
   "source": [
    "model1.Js"
   ]
  },
  {
   "cell_type": "code",
   "execution_count": 41,
   "metadata": {
    "collapsed": false
   },
   "outputs": [
    {
     "data": {
      "text/plain": [
       "array([ 0.0005131 ,  0.00087285, -0.00177834, ..., -0.00198691,\n",
       "        0.00144937, -0.00013273])"
      ]
     },
     "execution_count": 41,
     "metadata": {},
     "output_type": "execute_result"
    }
   ],
   "source": [
    "model1.eig_vecs[100]"
   ]
  },
  {
   "cell_type": "code",
   "execution_count": 75,
   "metadata": {
    "collapsed": false
   },
   "outputs": [
    {
     "data": {
      "text/plain": [
       "3.3584592912692539"
      ]
     },
     "execution_count": 75,
     "metadata": {},
     "output_type": "execute_result"
    }
   ],
   "source": [
    "Entanglement.EntanglementEntropy(6 + 4, model1.eig_vecs[100]).subsystem_entanglement(range(1,7))"
   ]
  },
  {
   "cell_type": "code",
   "execution_count": 51,
   "metadata": {
    "collapsed": false
   },
   "outputs": [
    {
     "data": {
      "text/plain": [
       "3.5269780174133434"
      ]
     },
     "execution_count": 51,
     "metadata": {},
     "output_type": "execute_result"
    }
   ],
   "source": [
    "ent_l[100]"
   ]
  },
  {
   "cell_type": "code",
   "execution_count": 79,
   "metadata": {
    "collapsed": false
   },
   "outputs": [
    {
     "data": {
      "text/plain": [
       "[1, 2, 3, 4, 5, 6]"
      ]
     },
     "execution_count": 79,
     "metadata": {},
     "output_type": "execute_result"
    }
   ],
   "source": [
    "range(1,7)"
   ]
  },
  {
   "cell_type": "code",
   "execution_count": 84,
   "metadata": {
    "collapsed": true
   },
   "outputs": [],
   "source": [
    "??model1.diagonalize()"
   ]
  },
  {
   "cell_type": "code",
   "execution_count": 82,
   "metadata": {
    "collapsed": false
   },
   "outputs": [
    {
     "data": {
      "text/plain": [
       "(1024, 1024)"
      ]
     },
     "execution_count": 82,
     "metadata": {},
     "output_type": "execute_result"
    }
   ],
   "source": [
    "model1.eig_vecs.shape"
   ]
  },
  {
   "cell_type": "code",
   "execution_count": 90,
   "metadata": {
    "collapsed": false
   },
   "outputs": [],
   "source": [
    "ent_l = []\n",
    "for i in range(2**10):\n",
    "    ent = Entanglement.EntanglementEntropy(6 + 4, model1.eig_vecs[:, i])\n",
    "    evals, evecs = np.linalg.eigh(ent.subsystem_reduced_density_matrix(range(1, 7)))\n",
    "    ent_l.append(-np.sum(evals[evals>10**-14]*np.log2(evals[evals>10**-14])))"
   ]
  },
  {
   "cell_type": "code",
   "execution_count": 91,
   "metadata": {
    "collapsed": false
   },
   "outputs": [
    {
     "data": {
      "text/plain": [
       "0.84329580753206279"
      ]
     },
     "execution_count": 91,
     "metadata": {},
     "output_type": "execute_result"
    }
   ],
   "source": [
    "ent_l[-1]"
   ]
  },
  {
   "cell_type": "code",
   "execution_count": 111,
   "metadata": {
    "collapsed": true
   },
   "outputs": [],
   "source": [
    "rho1 = Entanglement.EntanglementEntropy(6 + 4, model1.eig_vecs[:, i]).subsystem_reduced_density_matrix([2])"
   ]
  },
  {
   "cell_type": "code",
   "execution_count": 52,
   "metadata": {
    "collapsed": false
   },
   "outputs": [
    {
     "data": {
      "text/plain": [
       "[1.0, 1.0, 1.0, 1.0, 1.0, 100.0]"
      ]
     },
     "execution_count": 52,
     "metadata": {},
     "output_type": "execute_result"
    }
   ],
   "source": [
    "model1.Js"
   ]
  },
  {
   "cell_type": "code",
   "execution_count": 64,
   "metadata": {
    "collapsed": false
   },
   "outputs": [
    {
     "name": "stdout",
     "output_type": "stream",
     "text": [
      "[[ 0.10701983  0.89298017]\n",
      " [ 0.89298017  0.10701983]]\n",
      "***********\n",
      "[[ 0.06643672  0.93356328]\n",
      " [ 0.93356328  0.06643672]]\n",
      "***********\n",
      "[[ 0.02444831  0.97555169]\n",
      " [ 0.97555169  0.02444831]]\n",
      "***********\n",
      "[[ 0.99852884  0.00147116]\n",
      " [ 0.00147116  0.99852884]]\n",
      "***********\n",
      "[[ 0.00938807  0.99061193]\n",
      " [ 0.99061193  0.00938807]]\n",
      "***********\n",
      "[[ 0.16756444  0.83243556]\n",
      " [ 0.83243556  0.16756444]]\n",
      "***********\n"
     ]
    }
   ],
   "source": [
    "model1 = BCmodel.BCmodel(6, 4, [0.30, 0.32, 0.34, 0.36, 0.38, 0.40], [1.0, 1.0, 1.0, 1.0, 1.0, 1000000.0], seedd, seedd)\n",
    "model1.diagonalize()\n",
    "\n",
    "for s in range(1,7):\n",
    "    rho1 = Entanglement.EntanglementEntropy(6 + 4, model1.eig_vecs[:, 501]).subsystem_reduced_density_matrix([s])\n",
    "    eva, eve = np.linalg.eigh(rho1)\n",
    "    print np.abs(np.asarray(eve))**2\n",
    "    print \"***********\""
   ]
  },
  {
   "cell_type": "code",
   "execution_count": 20,
   "metadata": {
    "collapsed": false
   },
   "outputs": [
    {
     "data": {
      "text/plain": [
       "matrix([[ 0.0083721 ,  0.00177911, -0.03855885, -0.02025597, -0.1063098 ,\n",
       "          0.08220559, -0.04561268,  0.01039543,  0.01172911, -0.06659573]])"
      ]
     },
     "execution_count": 20,
     "metadata": {},
     "output_type": "execute_result"
    }
   ],
   "source": [
    "nmodel1.C[1].todense()[0, :10]"
   ]
  },
  {
   "cell_type": "code",
   "execution_count": 37,
   "metadata": {
    "collapsed": false
   },
   "outputs": [
    {
     "data": {
      "text/plain": [
       "-1.5916501087772112"
      ]
     },
     "execution_count": 37,
     "metadata": {},
     "output_type": "execute_result"
    }
   ],
   "source": [
    "np.sum(model1.C[5].toarray())"
   ]
  },
  {
   "cell_type": "code",
   "execution_count": 30,
   "metadata": {
    "collapsed": true
   },
   "outputs": [],
   "source": [
    "model1 = BCmodel.BCmodel(6, 4, [0.30, 0.32, 0.34, 0.36, 0.38, 0.40], [1.0, 1.0, 1.0, 1.0, 1.0, 1.0], seedd, seedd)\n",
    "model1.diagonalize()"
   ]
  },
  {
   "cell_type": "code",
   "execution_count": 19,
   "metadata": {
    "collapsed": false
   },
   "outputs": [
    {
     "data": {
      "text/plain": [
       "matrix([[ 0.0809467 , -0.05899394,  0.02774403, -0.01015413, -0.03427279,\n",
       "          0.05953069, -0.04207843, -0.06020447, -0.02179672,  0.01928555]])"
      ]
     },
     "execution_count": 19,
     "metadata": {},
     "output_type": "execute_result"
    }
   ],
   "source": [
    "model1.C[0].todense()[0, :10]"
   ]
  },
  {
   "cell_type": "code",
   "execution_count": 16,
   "metadata": {
    "collapsed": false
   },
   "outputs": [],
   "source": [
    "vals_ = []\n",
    "for seedd in range(100):\n",
    "    model1 = BCmodel.BCmodel(2, 8, [0.30, 0.32, 0.34, 0.36, 0.38, 0.40], [1.0, 1.0, 1.0, 1.0, 1.0, 1.0, 1.0, 1.0], seedd, seedd)\n",
    "#     model1.diagonalize()\n",
    "    vals_.extend(np.linalg.eigvalsh(model1.C[1].todense()).tolist())"
   ]
  },
  {
   "cell_type": "code",
   "execution_count": 42,
   "metadata": {
    "collapsed": false
   },
   "outputs": [
    {
     "data": {
      "image/png": "[encoded data removed]",
      "text/plain": [
       "<matplotlib.figure.Figure at 0x110ddec90>"
      ]
     },
     "metadata": {},
     "output_type": "display_data"
    }
   ],
   "source": [
    "plt.hist(np.linalg.eigvalsh(model1.C[-1].todense()).tolist());"
   ]
  },
  {
   "cell_type": "code",
   "execution_count": 124,
   "metadata": {
    "collapsed": false
   },
   "outputs": [
    {
     "data": {
      "text/plain": [
       "matrix([[-0.42606015,  0.10843239, -0.22665116,  0.1306596 , -0.09812979,\n",
       "         -0.27445813,  0.26148139,  0.1528002 ,  0.17420995,  0.3572402 ]])"
      ]
     },
     "execution_count": 124,
     "metadata": {},
     "output_type": "execute_result"
    }
   ],
   "source": [
    "model1.C[3].todense()[0,:10]"
   ]
  },
  {
   "cell_type": "code",
   "execution_count": 103,
   "metadata": {
    "collapsed": false
   },
   "outputs": [
    {
     "data": {
      "text/plain": [
       "array([  3.66973726e-01,   2.66254800e-01,   3.36899989e-02,\n",
       "         2.44489181e-02,   3.77254009e-02,   2.74154010e-02,\n",
       "         3.45603321e-03,   2.51207428e-03,   8.17642079e-03,\n",
       "         5.92839187e-03,   7.52341852e-04,   5.45617272e-04,\n",
       "         8.47157693e-04,   6.15223339e-04,   7.77822803e-05,\n",
       "         5.64996960e-05,   5.06845940e-02,   3.67728755e-02,\n",
       "         4.62003813e-03,   3.35268536e-03,   5.18124923e-03,\n",
       "         3.76516614e-03,   4.71283914e-04,   3.42551240e-04,\n",
       "         1.13427037e-03,   8.22386142e-04,   1.03632587e-04,\n",
       "         7.51543647e-05,   1.16862315e-04,   8.48649620e-05,\n",
       "         1.06541560e-05,   7.73872346e-06,   4.67740271e-02,\n",
       "         3.39349903e-02,   4.27839825e-03,   3.10470566e-03,\n",
       "         4.81333300e-03,   3.49774357e-03,   4.39347172e-04,\n",
       "         3.19332992e-04,   1.03517382e-03,   7.50528341e-04,\n",
       "         9.49020581e-05,   6.88222302e-05,   1.07369431e-04,\n",
       "         7.79704683e-05,   9.82233623e-06,   7.13446216e-06,\n",
       "         6.44230718e-03,   4.67386247e-03,   5.85059937e-04,\n",
       "         4.24551673e-04,   6.59258211e-04,   4.79058900e-04,\n",
       "         5.97448692e-05,   4.34237476e-05,   1.43208281e-04,\n",
       "         1.03826884e-04,   1.30357930e-05,   9.45317902e-06,\n",
       "         1.47708513e-05,   1.07261225e-05,   1.34167447e-06,\n",
       "         9.74497588e-07])"
      ]
     },
     "execution_count": 103,
     "metadata": {},
     "output_type": "execute_result"
    }
   ],
   "source": [
    "np.abs(np.asarray(evecs[:, -1].flatten()).flatten())**2"
   ]
  },
  {
   "cell_type": "code",
   "execution_count": 94,
   "metadata": {
    "collapsed": false
   },
   "outputs": [
    {
     "data": {
      "text/plain": [
       "[<matplotlib.lines.Line2D at 0x114dea4d0>]"
      ]
     },
     "execution_count": 94,
     "metadata": {},
     "output_type": "execute_result"
    },
    {
     "data": {
      "image/png": "[encoded data removed]",
      "text/plain": [
       "<matplotlib.figure.Figure at 0x1143f2990>"
      ]
     },
     "metadata": {},
     "output_type": "display_data"
    }
   ],
   "source": [
    "plt.plot(evals, 'o')"
   ]
  },
  {
   "cell_type": "code",
   "execution_count": 86,
   "metadata": {
    "collapsed": false
   },
   "outputs": [
    {
     "data": {
      "text/plain": [
       "(array([  64.,    0.,   64.,   64.,   64.,   64.,  128.,   64.,  230.,  282.]),\n",
       " array([ 0.57606333,  0.61851879,  0.66097426,  0.70342972,  0.74588518,\n",
       "         0.78834064,  0.8307961 ,  0.87325156,  0.91570702,  0.95816248,\n",
       "         1.00061794]),\n",
       " <a list of 10 Patch objects>)"
      ]
     },
     "execution_count": 86,
     "metadata": {},
     "output_type": "execute_result"
    },
    {
     "data": {
      "image/png": "[encoded data removed]",
      "text/plain": [
       "<matplotlib.figure.Figure at 0x104420750>"
      ]
     },
     "metadata": {},
     "output_type": "display_data"
    }
   ],
   "source": [
    "plt.hist(ent_l)"
   ]
  },
  {
   "cell_type": "code",
   "execution_count": 32,
   "metadata": {
    "collapsed": false
   },
   "outputs": [],
   "source": []
  },
  {
   "cell_type": "code",
   "execution_count": 33,
   "metadata": {
    "collapsed": false
   },
   "outputs": [
    {
     "data": {
      "text/plain": [
       "2.3553873263672003"
      ]
     },
     "execution_count": 33,
     "metadata": {},
     "output_type": "execute_result"
    }
   ],
   "source": []
  },
  {
   "cell_type": "code",
   "execution_count": 34,
   "metadata": {
    "collapsed": false
   },
   "outputs": [
    {
     "data": {
      "text/plain": [
       "(0.01, 1.0)"
      ]
     },
     "execution_count": 34,
     "metadata": {},
     "output_type": "execute_result"
    },
    {
     "data": {
      "image/png": "[encoded data removed]",
      "text/plain": [
       "<matplotlib.figure.Figure at 0x11493b9d0>"
      ]
     },
     "metadata": {},
     "output_type": "display_data"
    }
   ],
   "source": [
    "plt.plot(np.sort(evals)[::-1], 'o')\n",
    "plt.yscale(\"log\")\n",
    "plt.ylim(ymin = 0.01)"
   ]
  },
  {
   "cell_type": "code",
   "execution_count": 9,
   "metadata": {
    "collapsed": false
   },
   "outputs": [
    {
     "data": {
      "text/plain": [
       "[<matplotlib.lines.Line2D at 0x10dca1f90>]"
      ]
     },
     "execution_count": 9,
     "metadata": {},
     "output_type": "execute_result"
    },
    {
     "data": {
      "image/png": "[encoded data removed]",
      "text/plain": [
       "<matplotlib.figure.Figure at 0x10dd17990>"
      ]
     },
     "metadata": {},
     "output_type": "display_data"
    }
   ],
   "source": [
    "plt.plot(evals)"
   ]
  },
  {
   "cell_type": "code",
   "execution_count": 19,
   "metadata": {
    "collapsed": false
   },
   "outputs": [],
   "source": [
    "aa = model1.subsystem_entanglement_all_eigenstates(range(1,7))"
   ]
  },
  {
   "cell_type": "code",
   "execution_count": 8,
   "metadata": {
    "collapsed": true
   },
   "outputs": [],
   "source": [
    ">>> import seaborn as sns\n",
    ">>> sns.set_style(\"whitegrid\")\n",
    ">>> tips = sns.load_dataset(\"tips\")"
   ]
  },
  {
   "cell_type": "code",
   "execution_count": 12,
   "metadata": {
    "collapsed": true
   },
   "outputs": [],
   "source": [
    "import copy"
   ]
  },
  {
   "cell_type": "code",
   "execution_count": 13,
   "metadata": {
    "collapsed": true
   },
   "outputs": [],
   "source": [
    "tips2 = copy.deepcopy(tips)"
   ]
  },
  {
   "cell_type": "code",
   "execution_count": 15,
   "metadata": {
    "collapsed": false
   },
   "outputs": [],
   "source": [
    "tips2[\"total_bill\"] = tips2[\"total_bill\"]  + 5.0"
   ]
  },
  {
   "cell_type": "code",
   "execution_count": 27,
   "metadata": {
    "collapsed": false
   },
   "outputs": [
    {
     "data": {
      "text/plain": [
       "<matplotlib.axes._subplots.AxesSubplot at 0x12a8373d0>"
      ]
     },
     "execution_count": 27,
     "metadata": {},
     "output_type": "execute_result"
    },
    {
     "data": {
      "image/png": "[encoded data removed]",
      "text/plain": [
       "<matplotlib.figure.Figure at 0x12cb32890>"
      ]
     },
     "metadata": {},
     "output_type": "display_data"
    }
   ],
   "source": [
    "sns.boxplot(x=[1.0]*len(aa), y = aa)\n",
    "sns.boxplot(x=[2]*len(aa), y = np.asarray(aa) + 1)"
   ]
  },
  {
   "cell_type": "code",
   "execution_count": 18,
   "metadata": {
    "collapsed": false
   },
   "outputs": [
    {
     "data": {
      "text/plain": [
       "<matplotlib.axes._subplots.AxesSubplot at 0x1113578d0>"
      ]
     },
     "execution_count": 18,
     "metadata": {},
     "output_type": "execute_result"
    },
    {
     "data": {
      "image/png": "[encoded data removed]",
      "text/plain": [
       "<matplotlib.figure.Figure at 0x111042d50>"
      ]
     },
     "metadata": {},
     "output_type": "display_data"
    }
   ],
   "source": [
    "sns.boxplot(x=\"day\", y=\"total_bill\", data=tips, color='b')\n",
    "sns.boxplot(x=\"day\", y=\"total_bill\", data=tips2, color='r')"
   ]
  },
  {
   "cell_type": "code",
   "execution_count": 16,
   "metadata": {
    "collapsed": false
   },
   "outputs": [
    {
     "name": "stdout",
     "output_type": "stream",
     "text": [
      "10 loops, best of 3: 84.3 ms per loop\n"
     ]
    }
   ],
   "source": [
    "%timeit model1.build_interaction_hamiltonian(1)"
   ]
  },
  {
   "cell_type": "code",
   "execution_count": 17,
   "metadata": {
    "collapsed": false
   },
   "outputs": [
    {
     "name": "stdout",
     "output_type": "stream",
     "text": [
      "1 loop, best of 3: 269 ms per loop\n"
     ]
    }
   ],
   "source": [
    "%timeit model1.build_interaction_hamiltonian_not_sparse(2)"
   ]
  },
  {
   "cell_type": "code",
   "execution_count": 18,
   "metadata": {
    "collapsed": false
   },
   "outputs": [
    {
     "ename": "AttributeError",
     "evalue": "'numpy.ndarray' object has no attribute 'todense'",
     "output_type": "error",
     "traceback": [
      "\u001b[0;31m---------------------------------------------------------------------------\u001b[0m",
      "\u001b[0;31mAttributeError\u001b[0m                            Traceback (most recent call last)",
      "\u001b[0;32m<ipython-input-18-853839e990fd>\u001b[0m in \u001b[0;36m<module>\u001b[0;34m()\u001b[0m\n\u001b[0;32m----> 1\u001b[0;31m \u001b[0mmodel1\u001b[0m\u001b[0;34m.\u001b[0m\u001b[0mdiagonalize\u001b[0m\u001b[0;34m(\u001b[0m\u001b[0;34m)\u001b[0m\u001b[0;34m\u001b[0m\u001b[0m\n\u001b[0m",
      "\u001b[0;32m/Users/pedro/Google Drive/work_21-02-2016/projects/lbits_in_bath/lbits_in_bath/lbits_in_bath.py\u001b[0m in \u001b[0;36mdiagonalize\u001b[0;34m(self, save_eig_vecs)\u001b[0m\n\u001b[1;32m    179\u001b[0m \u001b[0;34m\u001b[0m\u001b[0m\n\u001b[1;32m    180\u001b[0m     \u001b[0;32mdef\u001b[0m \u001b[0mdiagonalize\u001b[0m\u001b[0;34m(\u001b[0m\u001b[0mself\u001b[0m\u001b[0;34m,\u001b[0m \u001b[0msave_eig_vecs\u001b[0m\u001b[0;34m=\u001b[0m\u001b[0mTrue\u001b[0m\u001b[0;34m)\u001b[0m\u001b[0;34m:\u001b[0m\u001b[0;34m\u001b[0m\u001b[0m\n\u001b[0;32m--> 181\u001b[0;31m         \u001b[0mself\u001b[0m\u001b[0;34m.\u001b[0m\u001b[0meig_vals\u001b[0m\u001b[0;34m,\u001b[0m \u001b[0meig_vecs\u001b[0m \u001b[0;34m=\u001b[0m \u001b[0mscipy\u001b[0m\u001b[0;34m.\u001b[0m\u001b[0mlinalg\u001b[0m\u001b[0;34m.\u001b[0m\u001b[0meigh\u001b[0m\u001b[0;34m(\u001b[0m\u001b[0mself\u001b[0m\u001b[0;34m.\u001b[0m\u001b[0mham\u001b[0m\u001b[0;34m.\u001b[0m\u001b[0mtodense\u001b[0m\u001b[0;34m(\u001b[0m\u001b[0;34m)\u001b[0m\u001b[0;34m)\u001b[0m\u001b[0;34m\u001b[0m\u001b[0m\n\u001b[0m\u001b[1;32m    182\u001b[0m         \u001b[0;32mif\u001b[0m \u001b[0msave_eig_vecs\u001b[0m\u001b[0;34m:\u001b[0m\u001b[0;34m\u001b[0m\u001b[0m\n\u001b[1;32m    183\u001b[0m             \u001b[0mself\u001b[0m\u001b[0;34m.\u001b[0m\u001b[0meig_vecs\u001b[0m \u001b[0;34m=\u001b[0m \u001b[0meig_vecs\u001b[0m\u001b[0;34m\u001b[0m\u001b[0m\n",
      "\u001b[0;31mAttributeError\u001b[0m: 'numpy.ndarray' object has no attribute 'todense'"
     ]
    }
   ],
   "source": [
    "model1.diagonalize()"
   ]
  },
  {
   "cell_type": "code",
   "execution_count": 20,
   "metadata": {
    "collapsed": false
   },
   "outputs": [
    {
     "data": {
      "text/plain": [
       "[<matplotlib.lines.Line2D at 0x10d470fd0>]"
      ]
     },
     "execution_count": 20,
     "metadata": {},
     "output_type": "execute_result"
    },
    {
     "data": {
      "image/png": "[encoded data removed]",
      "text/plain": [
       "<matplotlib.figure.Figure at 0x10a2f9610>"
      ]
     },
     "metadata": {},
     "output_type": "display_data"
    }
   ],
   "source": [
    "plt.plot([1,2,3],'x')"
   ]
  },
  {
   "cell_type": "code",
   "execution_count": 2,
   "metadata": {
    "collapsed": true
   },
   "outputs": [],
   "source": [
    "import Dynamics"
   ]
  },
  {
   "cell_type": "code",
   "execution_count": 36,
   "metadata": {
    "collapsed": false
   },
   "outputs": [],
   "source": [
    "Ham = np.matrix([[1.0, 0.0], [0.0, -1.0]])\n",
    "#np.matrix([[0.0, 1.0], [-1.0, 0.0]])"
   ]
  },
  {
   "cell_type": "code",
   "execution_count": 85,
   "metadata": {
    "collapsed": true
   },
   "outputs": [],
   "source": [
    "vals, vecs = np.linalg.eigh(Ham)"
   ]
  },
  {
   "cell_type": "code",
   "execution_count": 86,
   "metadata": {
    "collapsed": false
   },
   "outputs": [
    {
     "data": {
      "text/plain": [
       "matrix([[ 0.,  1.],\n",
       "        [ 1.,  0.]])"
      ]
     },
     "execution_count": 86,
     "metadata": {},
     "output_type": "execute_result"
    }
   ],
   "source": [
    "vecs"
   ]
  },
  {
   "cell_type": "code",
   "execution_count": 87,
   "metadata": {
    "collapsed": false
   },
   "outputs": [
    {
     "data": {
      "text/plain": [
       "array([-1.,  1.])"
      ]
     },
     "execution_count": 87,
     "metadata": {},
     "output_type": "execute_result"
    }
   ],
   "source": [
    "vals"
   ]
  },
  {
   "cell_type": "code",
   "execution_count": 169,
   "metadata": {
    "collapsed": false
   },
   "outputs": [
    {
     "data": {
      "text/plain": [
       "<module 'Dynamics' from 'Dynamics.py'>"
      ]
     },
     "execution_count": 169,
     "metadata": {},
     "output_type": "execute_result"
    }
   ],
   "source": [
    "reload(Dynamics)"
   ]
  },
  {
   "cell_type": "code",
   "execution_count": 170,
   "metadata": {
    "collapsed": false
   },
   "outputs": [],
   "source": [
    "te = Dynamics.TimeEvolutionED(vecs, vals)"
   ]
  },
  {
   "cell_type": "code",
   "execution_count": 171,
   "metadata": {
    "collapsed": true
   },
   "outputs": [],
   "source": [
    "initial_state = np.matrix([[1.0/np.sqrt(2), 1.0/np.sqrt(2), 1.0], [ 1.0/np.sqrt(2), -1.0/np.sqrt(2), 0.0]])"
   ]
  },
  {
   "cell_type": "code",
   "execution_count": 172,
   "metadata": {
    "collapsed": true
   },
   "outputs": [],
   "source": [
    "opx = np.matrix([[0.0, 1.0], [1.0, 0.0]])\n",
    "opy = np.matrix([[0.0, -1.0j], [1.0j, 0.0]])"
   ]
  },
  {
   "cell_type": "code",
   "execution_count": 173,
   "metadata": {
    "collapsed": false
   },
   "outputs": [
    {
     "data": {
      "text/plain": [
       "matrix([[ 0.,  1.],\n",
       "        [ 1.,  0.]])"
      ]
     },
     "execution_count": 173,
     "metadata": {},
     "output_type": "execute_result"
    }
   ],
   "source": [
    "opx"
   ]
  },
  {
   "cell_type": "code",
   "execution_count": 174,
   "metadata": {
    "collapsed": false
   },
   "outputs": [
    {
     "data": {
      "text/plain": [
       "matrix([[ 0.70710678,  0.70710678,  1.        ],\n",
       "        [ 0.70710678, -0.70710678,  0.        ]])"
      ]
     },
     "execution_count": 174,
     "metadata": {},
     "output_type": "execute_result"
    }
   ],
   "source": [
    "initial_state"
   ]
  },
  {
   "cell_type": "code",
   "execution_count": 178,
   "metadata": {
    "collapsed": false
   },
   "outputs": [
    {
     "data": {
      "text/plain": [
       "array([ 0.,  0.,  0.])"
      ]
     },
     "execution_count": 178,
     "metadata": {},
     "output_type": "execute_result"
    }
   ],
   "source": [
    "te.infinite_time_average(opx, initial_state)"
   ]
  },
  {
   "cell_type": "code",
   "execution_count": 179,
   "metadata": {
    "collapsed": false
   },
   "outputs": [
    {
     "data": {
      "text/plain": [
       "array([-1.,  1.])"
      ]
     },
     "execution_count": 179,
     "metadata": {},
     "output_type": "execute_result"
    }
   ],
   "source": [
    "vals"
   ]
  },
  {
   "cell_type": "code",
   "execution_count": 180,
   "metadata": {
    "collapsed": false
   },
   "outputs": [],
   "source": [
    "states = te.evolve_to(initial_state, 1.1)"
   ]
  },
  {
   "cell_type": "code",
   "execution_count": 181,
   "metadata": {
    "collapsed": false
   },
   "outputs": [
    {
     "data": {
      "text/plain": [
       "matrix([[ 0.32074089-0.63017877j,  0.32074089-0.63017877j,\n",
       "          0.45359612-0.89120736j],\n",
       "        [ 0.32074089+0.63017877j, -0.32074089-0.63017877j,  0.00000000+0.j        ]])"
      ]
     },
     "execution_count": 181,
     "metadata": {},
     "output_type": "execute_result"
    }
   ],
   "source": [
    "states"
   ]
  },
  {
   "cell_type": "code",
   "execution_count": 182,
   "metadata": {
    "collapsed": false
   },
   "outputs": [
    {
     "data": {
      "text/plain": [
       "matrix([[ 0.32074089-0.63017877j,  0.32074089-0.63017877j,\n",
       "          0.45359612-0.89120736j],\n",
       "        [ 0.32074089+0.63017877j, -0.32074089-0.63017877j,  0.00000000+0.j        ]])"
      ]
     },
     "execution_count": 182,
     "metadata": {},
     "output_type": "execute_result"
    }
   ],
   "source": [
    "states"
   ]
  },
  {
   "cell_type": "code",
   "execution_count": 183,
   "metadata": {
    "collapsed": false
   },
   "outputs": [
    {
     "data": {
      "text/plain": [
       "matrix([[ 0.,  1.],\n",
       "        [ 1.,  0.]])"
      ]
     },
     "execution_count": 183,
     "metadata": {},
     "output_type": "execute_result"
    }
   ],
   "source": [
    "opx"
   ]
  },
  {
   "cell_type": "code",
   "execution_count": 184,
   "metadata": {
    "collapsed": false
   },
   "outputs": [],
   "source": [
    "xy_ = []\n",
    "for t in np.linspace(0.1, 4.0, 200):\n",
    "    states = te.evolve_to(initial_state, t)\n",
    "    x_ex = np.diag(states.H*opx*states)\n",
    "    y_ex = np.diag(states.H*opy*states)\n",
    "    xy_.append([x_ex[0].real, y_ex[0].real])"
   ]
  },
  {
   "cell_type": "code",
   "execution_count": 185,
   "metadata": {
    "collapsed": false
   },
   "outputs": [
    {
     "data": {
      "text/plain": [
       "[[0.98006657784124129, 0.19866933079506116],\n",
       " [0.9715287785611425, 0.23692157442388762],\n",
       " [0.96149858656683618, 0.27480987615072278],\n",
       " [0.94999140951868677, 0.31227603468838028],\n",
       " [0.93702492391539027, 0.34926249721571384],\n",
       " [0.92261904794060834, 0.38571244778612679],\n",
       " [0.90679591086608258, 0.42156989460414657],\n",
       " [0.88957981905824079, 0.4567797560359998],\n",
       " [0.8709972186404995, 0.49128794522205982],\n",
       " [0.85107665486863149, 0.52504145316119533],\n",
       " [0.82984872828159384, 0.55798843013939003],\n",
       " [0.80734604769517815, 0.59007826537754737],\n",
       " [0.78360318011068941, 0.6212616647761342],\n",
       " [0.75865659761560533, 0.65149072663723584],\n",
       " [0.73254462135777099, 0.68071901524770095],\n",
       " [0.70530736267920835, 0.70890163221035052],\n",
       " [0.67698666149995312, 0.73599528541366865],\n",
       " [0.64762602204657393, 0.76195835553403424],\n",
       " [0.61727054602410769, 0.78675095996833699],\n",
       " [0.5859668633340569, 0.8103350140987654],\n",
       " [0.55376306044488899, 0.83267428979566194],\n",
       " [0.52070860652505413, 0.85373447106857281],\n",
       " [0.48685427745200566, 0.87348320678000746],\n",
       " [0.45225207781394255, 0.89189016034093072],\n",
       " [0.41695516102409941, 0.90892705631165316],\n",
       " [0.38101774767028868, 0.92456772383652885],\n",
       " [0.344495042225132, 0.93878813684574436],\n",
       " [0.3074431482449132, 0.95156645096244108],\n",
       " [0.26991898218732663, 0.96288303705847755],\n",
       " [0.23198018598050302, 0.97272051140728544],\n",
       " [0.19368503847762142, 0.98106376238750248],\n",
       " [0.15509236593312131, 0.98789997369635885],\n",
       " [0.11626145163803692, 0.99321864403716087],\n",
       " [0.077251944853262755, 0.9970116032506281],\n",
       " [0.038123769180647915, 0.999273024865307],\n",
       " [-0.0010629694873398043, 0.99999943504777489],\n",
       " [-0.040248075297965369, 0.99918971793889533],\n",
       " [-0.079371354906772995, 0.99684511736792014],\n",
       " [-0.11837270994227506, 0.99296923494180878],\n",
       " [-0.15719222932475596, 0.98756802451269787],\n",
       " [-0.19577028129736612, 0.98064978303202111],\n",
       " [-0.23404760502814304, 0.97222513780532849],\n",
       " [-0.2719654016422462, 0.96230703016738428],\n",
       " [-0.30946542454456255, 0.95091069560261732],\n",
       " [-0.34649006889394118, 0.93805364034146332],\n",
       " [-0.38298246009161335, 0.92375561446855381],\n",
       " [-0.41888654114786494, 0.90803858158405237],\n",
       " [-0.45414715879275463, 0.89092668506475214],\n",
       " [-0.48871014819860842, 0.87244621097675357],\n",
       " [-0.52252241618413409, 0.85262554769669807],\n",
       " [-0.55553202277235325, 0.83149514230358412],\n",
       " [-0.58768826097706228, 0.8090874538081505],\n",
       " [-0.61894173469526093, 0.78543690329167826],\n",
       " [-0.64924443458589831, 0.76057982103079536],\n",
       " [-0.67854981181837359, 0.73455439068951844],\n",
       " [-0.70681284957750412, 0.70740059066424932],\n",
       " [-0.73399013221512377, 0.67916013267183517],\n",
       " [-0.76003991194208276, 0.64987639767502736],\n",
       " [-0.7849221729582021, 0.61959436924376066],\n",
       " [-0.80859869292167064, 0.58836056445462537],\n",
       " [-0.83103310166346078, 0.55622296243467639],\n",
       " [-0.85219093705657012, 0.52323093065934556],\n",
       " [-0.87203969795426339, 0.48943514911767116],\n",
       " [-0.89054889411600024, 0.45488753246134189],\n",
       " [-0.90769009304435366, 0.419641150257136],\n",
       " [-0.92343696366096684, 0.38375014546526681],\n",
       " [-0.93776531675446739, 0.34726965126885656],\n",
       " [-0.95065314213819285, 0.31025570638230099],\n",
       " [-0.96208064246066072, 0.27276516896862368],\n",
       " [-0.97203026361683686, 0.23485562929804851],\n",
       " [-0.98048672171348961, 0.19658532128196515],\n",
       " [-0.98743702654721, 0.15801303301817787],\n",
       " [-0.99287050155902823, 0.11919801648485295],\n",
       " [-0.99677880023497611, 0.080199896521886013],\n",
       " [-0.99915591892740296, 0.041078579239508431],\n",
       " [-0.99999820607734757, 0.0018941599948216663],\n",
       " [-0.99930436782380139, -0.037293168922371146],\n",
       " [-0.99707546999124286, -0.076423210752637],\n",
       " [-0.99331493645239655, -0.11543585673685031],\n",
       " [-0.98802854386872574, -0.15427117845095079],\n",
       " [-0.98122441281673822, -0.19286951986368145],\n",
       " [-0.97291299531374176, -0.23117158897590082],\n",
       " [-0.96310705876220526, -0.26911854890069031],\n",
       " [-0.95182166633739362, -0.30665210824435424],\n",
       " [-0.93907415384839721, -0.34371461064947012],\n",
       " [-0.92488410310810953, -0.38024912336244387],\n",
       " [-0.90927331185305427, -0.41619952468951438],\n",
       " [-0.89226576025926507, -0.45151059020686929],\n",
       " [-0.87388757410566353, -0.48612807759243654],\n",
       " [-0.85416698464151553, -0.51999880994904313],\n",
       " [-0.83313428521961197, -0.55307075749094325],\n",
       " [-0.81082178476179911, -0.58529311746823975],\n",
       " [-0.78726375812833183, -0.61661639220641473],\n",
       " [-0.76249639346729681, -0.64699246514110553],\n",
       " [-0.73655773662497892, -0.67637467473131185],\n",
       " [-0.70948763270256454, -0.70471788613750286],\n",
       " [-0.68132766484896146, -0.73197856055451571],\n",
       " [-0.65212109038375088, -0.75811482209274039],\n",
       " [-0.62191277434840331, -0.7830865221048513],\n",
       " [-0.59074912058782059, -0.80685530085927826],\n",
       " [-0.55867800046808902, -0.8293846464656659],\n",
       " [-0.52574867933991998, -0.85063995096182121],\n",
       " [-0.49201174086076144, -0.87058856347597535],\n",
       " [-0.45751900929181755, -0.88919984038270794],\n",
       " [-0.42232346988933661, -0.90644519237548504],\n",
       " [-0.38647918751247334, -0.92229812838349512],\n",
       " [-0.35004122357273343, -0.93673429626533011],\n",
       " [-0.31306555145258674, -0.94973152021699669],\n",
       " [-0.27560897052318345, -0.96126983483679074],\n",
       " [-0.23772901889323395, -0.97133151579471566],\n",
       " [-0.19948388502310777, -0.97990110705932321],\n",
       " [-0.16093231833989302, -0.98696544464015923],\n",
       " [-0.12213353899075297, -0.99251367680933933],\n",
       " [-0.083147146873189082, -0.99653728077119519],\n",
       " [-0.044033030081956581, -0.99903007575437952],\n",
       " [-0.004851272913281468, -0.99998823250632318],\n",
       " [0.034337936432324356, -0.99941027917545922],\n",
       " [0.073474398306848154, -0.99729710357217316],\n",
       " [0.11249799408915256, -0.99365195180501542],\n",
       " [0.15134877853488582, -0.98848042329425923],\n",
       " [0.18996707186005179, -0.98179046217047627],\n",
       " [0.22829355141681679, -0.97359234507133274],\n",
       " [0.26626934282068843, -0.96389866535535684],\n",
       " [0.30383611038912611, -0.95272431375692657],\n",
       " [0.34093614675261763, -0.94008645551219239],\n",
       " [0.37751246150059703, -0.9260045039910767],\n",
       " [0.41350886872602238, -0.9105000908758466],\n",
       " [0.44887007333412354, -0.8935970329320807],\n",
       " [0.48354175598276095, -0.87532129542306203],\n",
       " [0.51747065652389079, -0.8557009522238086],\n",
       " [0.55060465581798113, -0.83476614269600224],\n",
       " [0.58289285579569095, -0.81254902539006446],\n",
       " [0.61428565764382359, -0.78908372864550613],\n",
       " [0.64473483799546616, -0.76440629816541916],\n",
       " [0.67419362300725538, -0.73855464164566087],\n",
       " [0.70261676020999853, -0.71156847054377359],\n",
       " [0.72996058802226726, -0.68348923907709414],\n",
       " [0.75618310282017875, -0.65436008054376815],\n",
       " [0.78124402346034727, -0.62422574106447082],\n",
       " [0.80510485315688218, -0.5931325108466361],\n",
       " [0.82772893861738561, -0.56112815307676023],\n",
       " [0.84908152634710521, -0.52826183055003095],\n",
       " [0.86912981603475792, -0.4945840301499711],\n",
       " [0.88784301093801155, -0.46014648529411328],\n",
       " [0.90519236519122581, -0.42500209646484538],\n",
       " [0.92115122796279036, -0.38920484994748372],\n",
       " [0.93569508439421167, -0.35280973490042589],\n",
       " [0.94880159325808255, -0.3158726588847533],\n",
       " [0.96045062127706904, -0.27845036198304984],\n",
       " [0.97062427405120388, -0.24060032963936959],\n",
       " [0.97930692354597859, -0.20238070435421976],\n",
       " [0.9864852320990084, -0.1638501963702364],\n",
       " [0.99214817290838953, -0.12506799348571962],\n",
       " [0.9962870469712809, -0.086093670134596498],\n",
       " [0.99889549644668674, -0.046987095872452797],\n",
       " [0.99996951442191628, -0.0078083434092201462],\n",
       " [0.99950745106771488, 0.031382403670199122],\n",
       " [0.99751001617261126, 0.070524943355638497],\n",
       " [0.99398027805259492, 0.10955914768966429],\n",
       " [0.98892365883778621, 0.14842505513182666],\n",
       " [0.98234792614335065, 0.1870629626672731],\n",
       " [0.97426318113744836, 0.22541351751822464],\n",
       " [0.96468184302454241, 0.26341780831745609],\n",
       " [0.95361862996791014, 0.30101745560369991],\n",
       " [0.9410905364806601, 0.33815470149998345],\n",
       " [0.92711680731997803, 0.3747724984371324],\n",
       " [0.9117189079247171, 0.41081459678614263],\n",
       " [0.89492049144173003, 0.44622563126482578],\n",
       " [0.87674736239160678, 0.48095120598597146],\n",
       " [0.85722743702962101, 0.51493797801640817],\n",
       " [0.83639070046278674, 0.54813373931857956],\n",
       " [0.81426916058889054, 0.58048749694878266],\n",
       " [0.79089679892825637, 0.61194955138886808],\n",
       " [0.7663095184237787, 0.6424715728910626],\n",
       " [0.74054508828939725, 0.67200667571866335],\n",
       " [0.71364308599174686, 0.70050949016853126],\n",
       " [0.68564483645409702, 0.72793623226477355],\n",
       " [0.65659334857596852, 0.75424477101654241],\n",
       " [0.62653324916595865, 0.77939469313663312],\n",
       " [0.59551071438923775, 0.80334736512147686],\n",
       " [0.56357339883504687, 0.82606599259714886],\n",
       " [0.53077036231313657, 0.84751567684024653],\n",
       " [0.49715199449161579, 0.86766346838679831],\n",
       " [0.46276993749196116, 0.88647841764686286],\n",
       " [0.4276770065600996, 0.90393162244706993],\n",
       " [0.39192710893542515, 0.91999627242805648],\n",
       " [0.35557516104236597, 0.93464769022862026],\n",
       " [0.31867700413172245, 0.94786336939330562],\n",
       " [0.28128931850134764, 0.95962300894520391],\n",
       " [0.24346953642794361, 0.96990854457085884],\n",
       " [0.20527575394372977, 0.9787041763693628],\n",
       " [0.16676664159348359, 0.98599639312303278],\n",
       " [0.12800135430907383, 0.99177399305237013],\n",
       " [0.089039440539895154, 0.99602810102343109],\n",
       " [0.049940750778824594, 0.99875218218116912],\n",
       " [0.010765345624192568, 0.9999420519878095],\n",
       " [-0.028426596480996436, 0.9995958826508371],\n",
       " [-0.067574871690860794, 0.99771420593071813],\n",
       " [-0.10661934323746797, 0.99429991232404835],\n",
       " [-0.14550003380861343, 0.98935824662338157]]"
      ]
     },
     "execution_count": 185,
     "metadata": {},
     "output_type": "execute_result"
    }
   ],
   "source": [
    "xy_"
   ]
  },
  {
   "cell_type": "code",
   "execution_count": 186,
   "metadata": {
    "collapsed": false
   },
   "outputs": [
    {
     "data": {
      "text/plain": [
       "<matplotlib.collections.LineCollection at 0x11178f650>"
      ]
     },
     "execution_count": 186,
     "metadata": {},
     "output_type": "execute_result"
    },
    {
     "data": {
      "image/png": "[encoded data removed]",
      "text/plain": [
       "<matplotlib.figure.Figure at 0x1114fd1d0>"
      ]
     },
     "metadata": {},
     "output_type": "display_data"
    }
   ],
   "source": [
    "plt.plot(np.linspace(0.1, 4.0, 200), np.asarray(xy_)[:, 0])\n",
    "plt.vlines(np.pi, -1, 1)"
   ]
  },
  {
   "cell_type": "code",
   "execution_count": 187,
   "metadata": {
    "collapsed": false
   },
   "outputs": [
    {
     "data": {
      "text/plain": [
       "<matplotlib.collections.PathCollection at 0x112466290>"
      ]
     },
     "execution_count": 187,
     "metadata": {},
     "output_type": "execute_result"
    },
    {
     "data": {
      "image/png": "[encoded data removed]",
      "text/plain": [
       "<matplotlib.figure.Figure at 0x1117de2d0>"
      ]
     },
     "metadata": {},
     "output_type": "display_data"
    }
   ],
   "source": [
    "plt.scatter(*zip(*xy_))"
   ]
  },
  {
   "cell_type": "code",
   "execution_count": 136,
   "metadata": {
    "collapsed": false
   },
   "outputs": [
    {
     "data": {
      "text/plain": [
       "[(0.98006657784124129,\n",
       "  0.92106099400288499,\n",
       "  0.82533561490967822,\n",
       "  0.69670670934716528,\n",
       "  0.54030230586813954,\n",
       "  0.36235775447667351,\n",
       "  0.16996714290024112,\n",
       "  -0.029199522301288527,\n",
       "  -0.22720209469308672,\n",
       "  -0.41614683654714191,\n",
       "  -0.58850111725534537,\n",
       "  -0.73739371554124511,\n",
       "  -0.85688875336894721,\n",
       "  -0.94222234066865773,\n",
       "  -0.98999249660044542,\n",
       "  -0.99829477579475301,\n",
       "  -0.96679819257946087,\n",
       "  -0.89675841633414655,\n",
       "  -0.79096771191441662,\n",
       "  -0.65364362086361183,\n",
       "  -0.49026082134070015,\n",
       "  -0.30733286997842024,\n",
       "  -0.11215252693505495,\n",
       "  0.087498983439446509,\n",
       "  0.28366218546322625,\n",
       "  0.46851667130037722,\n",
       "  0.63469287594263391,\n",
       "  0.77556587851024927,\n",
       "  0.88551951694131881,\n",
       "  0.96017028665036597,\n",
       "  0.99654209702321728,\n",
       "  0.99318491875819259,\n",
       "  0.95023259195852916,\n",
       "  0.86939749034982527,\n",
       "  0.75390225434330449,\n",
       "  0.60835131453225499,\n",
       "  0.43854732757439102,\n",
       "  0.25125984258225564,\n",
       "  0.053955420562649847,\n",
       "  -0.14550003380861248,\n",
       "  -0.33915486098383446,\n",
       "  -0.51928865411668412,\n",
       "  -0.67872004732001101,\n",
       "  -0.8110930140616549,\n",
       "  -0.91113026188467605,\n",
       "  -0.97484362140416325,\n",
       "  -0.99969304203520626,\n",
       "  -0.9846878557941271,\n",
       "  -0.9304262721047537,\n",
       "  -0.8390715290764531,\n",
       "  -0.71426565202720027,\n",
       "  -0.56098425742723002,\n",
       "  -0.38533819077183135,\n",
       "  -0.19432990645533665,\n",
       "  0.0044256979880490377,\n",
       "  0.20300486381874855,\n",
       "  0.39349086634788932,\n",
       "  0.56828962976797193,\n",
       "  0.7204324789908374,\n",
       "  0.84385395873249092,\n",
       "  0.93363364407463645,\n",
       "  0.98619230227886323,\n",
       "  0.99943458550100461,\n",
       "  0.97283256569743548,\n",
       "  0.90744678145019686,\n",
       "  0.80588395764045162,\n",
       "  0.67219308355346929,\n",
       "  0.51170399245315035,\n",
       "  0.33081487794904857,\n",
       "  0.1367372182078353,\n",
       "  -0.062791722924079807,\n",
       "  -0.25981735621375407,\n",
       "  -0.44648489141226405,\n",
       "  -0.61535248295471912,\n",
       "  -0.75968791285881998,\n",
       "  -0.87373698301107905,\n",
       "  -0.95295291688717965,\n",
       "  -0.99417762518381481,\n",
       "  -0.99576760887328875,\n",
       "  -0.95765948032338499,\n",
       "  -0.88137249036223453,\n",
       "  -0.76994796054207171,\n",
       "  -0.62782803524638853,\n",
       "  -0.46067858741136547,\n",
       "  -0.27516333805160031,\n",
       "  -0.078678194731840123,\n",
       "  0.1209435999284742,\n",
       "  0.31574375491923989,\n",
       "  0.49795620278841207,\n",
       "  0.6603167082440774,\n",
       "  0.7963524702919228,\n",
       "  0.90064017238476846,\n",
       "  0.96902219293904868,\n",
       "  0.99877235658720998,\n",
       "  0.98870461818666955,\n",
       "  0.93922034669687071,\n",
       "  0.85229232386546427,\n",
       "  0.73138609564549906,\n",
       "  0.58132181181443854,\n",
       "  0.40808206181339518,\n",
       "  0.21857336778526254,\n",
       "  0.0203508433316828,\n",
       "  -0.17868300502473089,\n",
       "  -0.37059332583763821,\n",
       "  -0.54772926022426538,\n",
       "  -0.70302895746538574,\n",
       "  -0.83030110870852503,\n",
       "  -0.92447177491412003,\n",
       "  -0.98178666879327592,\n",
       "  -0.9999608263946369,\n",
       "  -0.97826970140650804,\n",
       "  -0.91757805053186092,\n",
       "  -0.82030545836749102,\n",
       "  -0.69032987620157493,\n",
       "  -0.53283302033340063,\n",
       "  -0.35409379339636232,\n",
       "  -0.16123796432418896,\n",
       "  0.038045913569767109,\n",
       "  0.23581302095051915,\n",
       "  0.42417900733699365,\n",
       "  0.59563431527520572,\n",
       "  0.74334356269617285,\n",
       "  0.86141804802870103,\n",
       "  0.94515051414816964,\n",
       "  0.99120281186347303,\n",
       "  0.9977389813911306,\n",
       "  0.9644984462781494,\n",
       "  0.89280640176291115,\n",
       "  0.78552098342290888,\n",
       "  0.64691932232864302,\n",
       "  0.48252702932510749,\n",
       "  0.29889790636447144,\n",
       "  0.10335266710397434,\n",
       "  -0.096312916845756935,\n",
       "  -0.29213880873383274,\n",
       "  -0.47631804821501211,\n",
       "  -0.64150799022238292,\n",
       "  -0.78112303305511199,\n",
       "  -0.88959716553620671,\n",
       "  -0.96260586631356537,\n",
       "  -0.99723850887947341,\n",
       "  -0.99211439906445031,\n",
       "  -0.94743781895675871,\n",
       "  -0.86498988282019029,\n",
       "  -0.74805752968900263,\n",
       "  -0.60130248348115756,\n",
       "  -0.43057540477662992,\n",
       "  -0.24268264344292351,\n",
       "  -0.045114890944514874,\n",
       "  0.15425144988758038,\n",
       "  0.34746827218125637,\n",
       "  0.5268326309626058,\n",
       "  0.68519383526398414,\n",
       "  0.81623852360756799,\n",
       "  0.91474235780452995,\n",
       "  0.97677830083226014,\n",
       "  0.99987317540798237,\n",
       "  0.98310626176245353,\n",
       "  0.92714600383166523,\n",
       "  0.83422336050651213,\n",
       "  0.70804286434201047,\n",
       "  0.55363493353465465,\n",
       "  0.37715532502333349,\n",
       "  0.18563972388579164,\n",
       "  -0.013276747223059548,\n",
       "  -0.21166391631732545,\n",
       "  -0.40161271301212609,\n",
       "  -0.5755504782013432,\n",
       "  -0.72654286207922947,\n",
       "  -0.84857027478460512,\n",
       "  -0.93676786845266946,\n",
       "  -0.98761948334747707,\n",
       "  -0.99909782605472608,\n",
       "  -0.97074529127268228,\n",
       "  -0.90369220509150672,\n",
       "  -0.80061176245899346,\n",
       "  -0.66561345533375949,\n",
       "  -0.50407924020908468,\n",
       "  -0.32244897649130871,\n",
       "  -0.12796368962740456,\n",
       "  0.0716231057291703,\n",
       "  0.26835451388009657,\n",
       "  0.45438747440426891,\n",
       "  0.62230544022653067,\n",
       "  0.76541405194534329,\n",
       "  0.87800802081681029,\n",
       "  0.95559858061283931,\n",
       "  0.99509244056553858,\n",
       "  0.99491510510867376,\n",
       "  0.95507364404729456,\n",
       "  0.87715641070691786,\n",
       "  0.7642697192987804,\n",
       "  0.62091400597476154,\n",
       "  0.45280441063998716,\n",
       "  0.2666429323599373,\n",
       "  0.069851241807127373,\n",
       "  -0.12972519732818566,\n",
       "  -0.32412990221756355,\n",
       "  -0.50561257075657551,\n",
       "  -0.66693806165226177),\n",
       " (0.19866933079506116,\n",
       "  0.38941834230865047,\n",
       "  0.56464247339503526,\n",
       "  0.71735609089952257,\n",
       "  0.84147098480789628,\n",
       "  0.93203908596722629,\n",
       "  0.98544972998845992,\n",
       "  0.99957360304150511,\n",
       "  0.97384763087819515,\n",
       "  0.90929742682568171,\n",
       "  0.80849640381959009,\n",
       "  0.67546318055115073,\n",
       "  0.51550137182146405,\n",
       "  0.33498815015590494,\n",
       "  0.14112000805986719,\n",
       "  -0.058374143427579635,\n",
       "  -0.25554110202683117,\n",
       "  -0.44252044329485235,\n",
       "  -0.61185789094271881,\n",
       "  -0.7568024953079282,\n",
       "  -0.87157577241358752,\n",
       "  -0.95160207388951557,\n",
       "  -0.99369100363346419,\n",
       "  -0.99616460883584057,\n",
       "  -0.95892427466313812,\n",
       "  -0.88345465572015303,\n",
       "  -0.77276448755598748,\n",
       "  -0.63126663787232129,\n",
       "  -0.46460217941375725,\n",
       "  -0.2794154981989258,\n",
       "  -0.083089402817497271,\n",
       "  0.11654920485049275,\n",
       "  0.31154136351337774,\n",
       "  0.49411335113860805,\n",
       "  0.65698659871878895,\n",
       "  0.79366786384915233,\n",
       "  0.89870809581162625,\n",
       "  0.9679196720314861,\n",
       "  0.99854334537460498,\n",
       "  0.98935824662338179,\n",
       "  0.9407305566797729,\n",
       "  0.85459890808828143,\n",
       "  0.73439709787411445,\n",
       "  0.58491719289176303,\n",
       "  0.41211848524175815,\n",
       "  0.22288991410024758,\n",
       "  0.024775425453359541,\n",
       "  -0.17432678122297784,\n",
       "  -0.36647912925192672,\n",
       "  -0.54402111088936822,\n",
       "  -0.69987468759354221,\n",
       "  -0.82782646908565238,\n",
       "  -0.92277542161280568,\n",
       "  -0.98093623006649111,\n",
       "  -0.99999020655070325,\n",
       "  -0.97917772915131751,\n",
       "  -0.91932852566467638,\n",
       "  -0.82282859496870964,\n",
       "  -0.69352508477712349,\n",
       "  -0.53657291800043638,\n",
       "  -0.35822928223683032,\n",
       "  -0.16560417544831113,\n",
       "  0.033623047221134912,\n",
       "  0.23150982510153714,\n",
       "  0.4201670368266392,\n",
       "  0.59207351470722158,\n",
       "  0.7403758899524473,\n",
       "  0.8591618148564949,\n",
       "  0.94369566944410399,\n",
       "  0.9906073556948698,\n",
       "  0.9980266527163616,\n",
       "  0.96565777654927765,\n",
       "  0.89479117214050485,\n",
       "  0.78825206737531717,\n",
       "  0.65028784015711816,\n",
       "  0.48639868885380111,\n",
       "  0.30311835674570392,\n",
       "  0.10775365229944582,\n",
       "  -0.091906850227678097,\n",
       "  -0.28790331666506358,\n",
       "  -0.47242198639846605,\n",
       "  -0.63810668234794743,\n",
       "  -0.77835207853429589,\n",
       "  -0.8875670335815028,\n",
       "  -0.9613974918795557,\n",
       "  -0.99690006604159598,\n",
       "  -0.99265938047063296,\n",
       "  -0.94884449791812497,\n",
       "  -0.86720217948558287,\n",
       "  -0.75098724677167839,\n",
       "  -0.604832822406284,\n",
       "  -0.43456562207189664,\n",
       "  -0.24697366173662424,\n",
       "  -0.049535640878370958,\n",
       "  0.14987720966294879,\n",
       "  0.34331492881989539,\n",
       "  0.52306576515769632,\n",
       "  0.68196362006813283,\n",
       "  0.81367373750710315,\n",
       "  0.91294525072762622,\n",
       "  0.97582051776697543,\n",
       "  0.99979290014266897,\n",
       "  0.98390669461861668,\n",
       "  0.92879523407724163,\n",
       "  0.83665563853605784,\n",
       "  0.71116122290598238,\n",
       "  0.55731505351766142,\n",
       "  0.38125049165494329,\n",
       "  0.18998667579544118,\n",
       "  -0.0088513092904003235,\n",
       "  -0.20733642060675525,\n",
       "  -0.3975556831214328,\n",
       "  -0.57192565510956084,\n",
       "  -0.72349475604424229,\n",
       "  -0.84622040417516864,\n",
       "  -0.93520991519453767,\n",
       "  -0.98691555812064857,\n",
       "  -0.99927599213662766,\n",
       "  -0.97179844574386409,\n",
       "  -0.905578362006625,\n",
       "  -0.80325572669395684,\n",
       "  -0.66890982037802404,\n",
       "  -0.50789659039062518,\n",
       "  -0.32663512610472556,\n",
       "  -0.13235175009777655,\n",
       "  0.067208072525471382,\n",
       "  0.26408852138446937,\n",
       "  0.45044059427538602,\n",
       "  0.61883502212003627,\n",
       "  0.76255845047960025,\n",
       "  0.87588107981088748,\n",
       "  0.95428509449269683,\n",
       "  0.99464477387783756,\n",
       "  0.99535110491155931,\n",
       "  0.95637592840450381,\n",
       "  0.87927306165072594,\n",
       "  0.76711635263553002,\n",
       "  0.62437713541639406,\n",
       "  0.45674597214419593,\n",
       "  0.27090578830787237,\n",
       "  0.074265445584364834,\n",
       "  -0.12533562609642909,\n",
       "  -0.31993996188419471,\n",
       "  -0.50178930102057095,\n",
       "  -0.66363388421296465,\n",
       "  -0.79902147865961148,\n",
       "  -0.90255460821018518,\n",
       "  -0.97010573370718423,\n",
       "  -0.9989818049469491,\n",
       "  -0.98803162409286216,\n",
       "  -0.93769174030028246,\n",
       "  -0.84996904587932975,\n",
       "  -0.72836076783159576,\n",
       "  -0.57771504444573452,\n",
       "  -0.40403764532306818,\n",
       "  -0.21425254029589114,\n",
       "  -0.015925862600105346,\n",
       "  0.18303572898058448,\n",
       "  0.37470026364945869,\n",
       "  0.55142668124168748,\n",
       "  0.7061694571803292,\n",
       "  0.83275948530777955,\n",
       "  0.92615002068052821,\n",
       "  0.98261787736413941,\n",
       "  0.99991186010726707,\n",
       "  0.97734251239225856,\n",
       "  0.91580960289081881,\n",
       "  0.81776625452644169,\n",
       "  0.68712114620474429,\n",
       "  0.52908268612002374,\n",
       "  0.34995136895666212,\n",
       "  0.15686859504840997,\n",
       "  -0.042468034716951514,\n",
       "  -0.24011159795377446,\n",
       "  -0.42818266949615097,\n",
       "  -0.59918344921426514,\n",
       "  -0.74629667564491609,\n",
       "  -0.86365740869295582,\n",
       "  -0.94658684628496037,\n",
       "  -0.99177885344311556,\n",
       "  -0.99743176745364792,\n",
       "  -0.96332022447376053,\n",
       "  -0.89080414407686126,\n",
       "  -0.78277451355065419,\n",
       "  -0.64353813335699928,\n",
       "  -0.47864591858841488,\n",
       "  -0.29467160150025751,\n",
       "  -0.098949657550289519,\n",
       "  0.10071709699250053,\n",
       "  0.29636857870938527,\n",
       "  0.48020478043825893,\n",
       "  0.64489673294486727,\n",
       "  0.78387868779829284,\n",
       "  0.89160987304144046,\n",
       "  0.96379538628408745,\n",
       "  0.99755741890780492,\n",
       "  0.99154998521414084,\n",
       "  0.94601258262690779,\n",
       "  0.86276064368567873,\n",
       "  0.74511316047934861)]"
      ]
     },
     "execution_count": 136,
     "metadata": {},
     "output_type": "execute_result"
    }
   ],
   "source": [
    "zip(*xy_)"
   ]
  },
  {
   "cell_type": "code",
   "execution_count": 118,
   "metadata": {
    "collapsed": false
   },
   "outputs": [
    {
     "data": {
      "text/plain": [
       "(-0.66693806165226177+0j)"
      ]
     },
     "execution_count": 118,
     "metadata": {},
     "output_type": "execute_result"
    }
   ],
   "source": [
    "x_ex"
   ]
  },
  {
   "cell_type": "code",
   "execution_count": 114,
   "metadata": {
    "collapsed": false
   },
   "outputs": [
    {
     "data": {
      "text/plain": [
       "matrix([[ 0.,  1.],\n",
       "        [-1.,  0.]])"
      ]
     },
     "execution_count": 114,
     "metadata": {},
     "output_type": "execute_result"
    }
   ],
   "source": [
    "opx"
   ]
  },
  {
   "cell_type": "code",
   "execution_count": 119,
   "metadata": {
    "collapsed": false
   },
   "outputs": [
    {
     "name": "stderr",
     "output_type": "stream",
     "text": [
      "/Users/pedro/anaconda/envs/python2/lib/python2.7/site-packages/numpy/core/numeric.py:482: ComplexWarning: Casting complex values to real discards the imaginary part\n",
      "  return array(a, dtype, copy=False, order=order)\n"
     ]
    },
    {
     "data": {
      "text/plain": [
       "[<matplotlib.lines.Line2D at 0x110602b90>]"
      ]
     },
     "execution_count": 119,
     "metadata": {},
     "output_type": "execute_result"
    },
    {
     "data": {
      "image/png": "[encoded data removed]",
      "text/plain": [
       "<matplotlib.figure.Figure at 0x1104dcb50>"
      ]
     },
     "metadata": {},
     "output_type": "display_data"
    }
   ],
   "source": [
    "plt.plot(np.linspace(0.1, 20.0, 200), x_ex_, 'o')"
   ]
  },
  {
   "cell_type": "code",
   "execution_count": 101,
   "metadata": {
    "collapsed": false
   },
   "outputs": [
    {
     "data": {
      "text/plain": [
       "-0.74511316047934861j"
      ]
     },
     "execution_count": 101,
     "metadata": {},
     "output_type": "execute_result"
    }
   ],
   "source": [
    "y_ex"
   ]
  },
  {
   "cell_type": "code",
   "execution_count": null,
   "metadata": {
    "collapsed": true
   },
   "outputs": [],
   "source": []
  }
 ],
 "metadata": {
  "kernelspec": {
   "display_name": "Python 2",
   "language": "python",
   "name": "python2"
  },
  "language_info": {
   "codemirror_mode": {
    "name": "ipython",
    "version": 2
   },
   "file_extension": ".py",
   "mimetype": "text/x-python",
   "name": "python",
   "nbconvert_exporter": "python",
   "pygments_lexer": "ipython2",
   "version": "2.7.12"
  }
 },
 "nbformat": 4,
 "nbformat_minor": 0
}
